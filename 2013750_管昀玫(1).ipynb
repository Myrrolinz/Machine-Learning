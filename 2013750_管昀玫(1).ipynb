{
 "cells": [
  {
   "attachments": {},
   "cell_type": "markdown",
   "metadata": {},
   "source": [
    "# Lab1 KNN\n",
    "- 姓名：管昀玫\n",
    "- 学号：2013750\n",
    "- 专业：计算机科学与技术"
   ]
  },
  {
   "attachments": {},
   "cell_type": "markdown",
   "metadata": {},
   "source": [
    "### 实验要求\n",
    "题目：基于KNN 的手写数字识别\n",
    "实验条件：给定semeion手写数字数据集，给定kNN分类算法\n",
    "实验要求：\n",
    "1. 基本要求：编程实现kNN算法；给出在不同k值（1，3，5）情况下，kNN算法对手写数字的识别精度（要求采用留一法）\n",
    "2. 中级要求：与weka机器学习包中的kNN分类结果进行对比\n",
    "3. 提高要求：将实验过程结果等图示展出\n",
    "\n",
    "**截止日期：10月7日**\n",
    "- 以.ipynb形式的文件提交，输出运行结果，并确保自己的代码能够正确运行\n",
    "- 发送到邮箱：2120220594@mail.nankai.edu.cn"
   ]
  },
  {
   "attachments": {},
   "cell_type": "markdown",
   "metadata": {},
   "source": [
    "### 导入需要的包"
   ]
  },
  {
   "cell_type": "code",
   "execution_count": 1,
   "metadata": {},
   "outputs": [],
   "source": [
    "import numpy as np\n",
    "import operator\n",
    "from collections import Counter\n",
    "from sklearn.model_selection import train_test_split,cross_val_score\n",
    "from sklearn.model_selection import LeaveOneOut\n",
    "from sklearn.neighbors import KNeighborsClassifier\n",
    "from tqdm import tqdm\n",
    "import matplotlib.pyplot as plt\n",
    "import time"
   ]
  },
  {
   "attachments": {},
   "cell_type": "markdown",
   "metadata": {},
   "source": [
    "### 导入数据集 semesion"
   ]
  },
  {
   "cell_type": "code",
   "execution_count": 2,
   "metadata": {},
   "outputs": [],
   "source": [
    "# 导入数据\n",
    "def Img2Mat(fileName):\n",
    "    f = open(fileName)\n",
    "    ss = f.readlines()\n",
    "    l = len(ss)\n",
    "    f.close()\n",
    "    returnMat = np.zeros((l,256))\n",
    "    returnClassVector = np.zeros((l,1))\n",
    "    for i in range(l):\n",
    "        s1 = ss[i].split()\n",
    "        for j in range(256):\n",
    "            returnMat[i][j] = np.float(s1[j])\n",
    "        clCount = 0\n",
    "        for j in range(256,266):\n",
    "            if s1[j] != '1':\n",
    "                clCount += 1\n",
    "            else:\n",
    "                break\n",
    "        returnClassVector[i] = clCount\n",
    "    return returnMat,returnClassVector"
   ]
  },
  {
   "cell_type": "code",
   "execution_count": 3,
   "metadata": {},
   "outputs": [
    {
     "name": "stderr",
     "output_type": "stream",
     "text": [
      "<ipython-input-2-14e503bfd0bb>:12: DeprecationWarning: `np.float` is a deprecated alias for the builtin `float`. To silence this warning, use `float` by itself. Doing this will not modify any behavior and is safe. If you specifically wanted the numpy scalar type, use `np.float64` here.\n",
      "Deprecated in NumPy 1.20; for more details and guidance: https://numpy.org/devdocs/release/1.20.0-notes.html#deprecations\n",
      "  returnMat[i][j] = np.float(s1[j])\n"
     ]
    },
    {
     "data": {
      "text/plain": [
       "((1593, 256), (1593, 1))"
      ]
     },
     "execution_count": 3,
     "metadata": {},
     "output_type": "execute_result"
    }
   ],
   "source": [
    "X,y = Img2Mat('semeion.data')\n",
    "np.shape(X), np.shape(y)"
   ]
  },
  {
   "attachments": {},
   "cell_type": "markdown",
   "metadata": {},
   "source": [
    "### 基本要求\n",
    "编程实现kNN算法；给出不同k值（1，3，5）情况下，kNN算法对手写数字的识别精度（模板中采用的是普通方法分割训练集和测试集，作业中需要用留一法）"
   ]
  },
  {
   "cell_type": "code",
   "execution_count": 4,
   "metadata": {},
   "outputs": [],
   "source": [
    "# KNN算法手动实现\n",
    "def MyKnnClassifier(X_train, X_test, y_train, y_test, k):\n",
    "    \n",
    "    trainShape = X_train.shape[0]   # 获得训练集的大小\n",
    "    testShape = X_test.shape[0]    # 获得测试集的大小\n",
    "    '''\n",
    "    print(np.shape(X_train))\n",
    "    print(np.shape(X_test))\n",
    "    print(np.shape(y_train))\n",
    "    '''\n",
    "    testRes = []  # 存放测试结果\n",
    "    acc = 0   # 计算准确率\n",
    "    # 差异矩阵 = 该样本与训练集中所有样本之差构成的矩阵\n",
    "    testDiffMat = np.tile(X_test[0],(trainShape , 1)) - X_train\n",
    "    sqTestDiffMat = testDiffMat ** 2    # 将差异矩阵平方\n",
    "    # 方差距离为方差矩阵的整行求和，是一个一位列向量\n",
    "    sqTestDiffDis = sqTestDiffMat.sum(axis=1)\n",
    "    testDiffDis = sqTestDiffDis ** 0.5  # 开方生成标准差距离\n",
    "    sortIndex = np.argsort(testDiffDis)   # 将标准差距离按照下标排序\n",
    "    labelCount = []\n",
    "    for j in range(k):  # 考察k近邻属于哪些类\n",
    "        labelCount.append(y_train[sortIndex[j]][0])\n",
    "    classifyRes = Counter(labelCount)    # 把k近邻中最多的那个标签作为分类结果\n",
    "    classifyRes = classifyRes.most_common(2)[0][0]\n",
    "    testRes.append(classifyRes)\n",
    "    # print(np.shape(classifyRes))\n",
    "    if classifyRes == y_test[0]:  # 分类正确则将accRate+1\n",
    "        acc += 1\n",
    "    '''\n",
    "    accRate = acc / X_test.shape[0]\n",
    "    print('k={0}时，测试个数为{1}  正确个数为：{2}  准确率为：{3}'.format(k,X_test.shape[0],acc,accRate))\n",
    "    return accRate\n",
    "    '''\n",
    "    return acc"
   ]
  },
  {
   "cell_type": "code",
   "execution_count": 5,
   "metadata": {},
   "outputs": [],
   "source": [
    "# 留一法\n",
    "def leave_one_out_cross_validation(data, all_labels, k=1):\n",
    "    all_accuracy = []\n",
    "    acc = 0\n",
    "    for i in range(0, len(data)):\n",
    "        test_instance = data[i:i+1,:]\n",
    "        test_label = all_labels[i:i+1,:]\n",
    "        \n",
    "        train_instances = np.vstack((data[0:i,:],data[i+1:-1,:]))\n",
    "        train_labels = np.vstack((all_labels[0:i,:],all_labels[i+1:-1,:]))\n",
    "        '''\n",
    "        print(np.shape(test_instance))\n",
    "        print(np.shape(test_label))\n",
    "        print(np.shape(train_instances))\n",
    "        print(np.shape(train_labels))\n",
    "        '''\n",
    "        prediction = MyKnnClassifier(train_instances, test_instance, train_labels, test_label, k)\n",
    "        acc += prediction\n",
    "        '''\n",
    "        if (prediction == test_label):\n",
    "            all_accuracy.append(1) # Correct pred\n",
    "        else:\n",
    "            all_accuracy.append(0) # Incorrect pred\n",
    "        '''\n",
    "    accRate = acc / data.shape[0]\n",
    "    print('k={0}时，测试个数为{1}  正确个数为：{2}  准确率为：{3}'.format(k,data.shape[0],acc,accRate))\n",
    "    # return sum(all_accuracy)/len(all_accuracy) # Mean\n",
    "    return accRate"
   ]
  },
  {
   "attachments": {},
   "cell_type": "markdown",
   "metadata": {},
   "source": [
    "实验结果："
   ]
  },
  {
   "cell_type": "code",
   "execution_count": 29,
   "metadata": {},
   "outputs": [
    {
     "name": "stdout",
     "output_type": "stream",
     "text": [
      "k=1时，测试个数为1593  正确个数为：1462  准确率为：0.9177652228499686\n"
     ]
    },
    {
     "data": {
      "text/plain": [
       "0.9177652228499686"
      ]
     },
     "execution_count": 29,
     "metadata": {},
     "output_type": "execute_result"
    }
   ],
   "source": [
    "leave_one_out_cross_validation(X, y, 1)\n",
    "# leave_one_out_cross_validation(X, y, 3)\n",
    "# leave_one_out_cross_validation(X, y, 5)"
   ]
  },
  {
   "cell_type": "code",
   "execution_count": 27,
   "metadata": {},
   "outputs": [
    {
     "name": "stdout",
     "output_type": "stream",
     "text": [
      "k=3时，测试个数为1593  正确个数为：1461  准确率为：0.9171374764595104\n",
      "k=5时，测试个数为1593  正确个数为：1460  准确率为：0.9165097300690521\n"
     ]
    },
    {
     "data": {
      "text/plain": [
       "0.9165097300690521"
      ]
     },
     "execution_count": 27,
     "metadata": {},
     "output_type": "execute_result"
    }
   ],
   "source": [
    "leave_one_out_cross_validation(X, y, 3)\n",
    "leave_one_out_cross_validation(X, y, 5)"
   ]
  },
  {
   "cell_type": "code",
   "execution_count": 8,
   "metadata": {},
   "outputs": [
    {
     "name": "stdout",
     "output_type": "stream",
     "text": [
      "(1274, 256)\n",
      "(319, 256)\n",
      "(1274, 1)\n",
      "(319, 1)\n",
      "k=1时，测试个数为319  正确个数为：297  准确率为：0.9310344827586207\n",
      "(1274, 256)\n",
      "(319, 256)\n",
      "(1274, 1)\n",
      "(319, 1)\n",
      "k=3时，测试个数为319  正确个数为：297  准确率为：0.9310344827586207\n",
      "(1274, 256)\n",
      "(319, 256)\n",
      "(1274, 1)\n",
      "(319, 1)\n",
      "k=5时，测试个数为319  正确个数为：297  准确率为：0.9310344827586207\n"
     ]
    },
    {
     "data": {
      "text/plain": [
       "0.9310344827586207"
      ]
     },
     "execution_count": 8,
     "metadata": {},
     "output_type": "execute_result"
    }
   ],
   "source": [
    "# 这是用普通分割数据集方法的结果，仅作对比使用\n",
    "MyKnnClassifier_(X, y, 1)\n",
    "MyKnnClassifier_(X, y, 3)\n",
    "MyKnnClassifier_(X, y, 5)"
   ]
  },
  {
   "attachments": {},
   "cell_type": "markdown",
   "metadata": {},
   "source": [
    "### 中级要求\n",
    "模板中与sklearn机器学习包中的kNN分类结果进行对比（作业中需要与weka机器学习包中的kNN分类结果进行对比）"
   ]
  },
  {
   "cell_type": "code",
   "execution_count": 11,
   "metadata": {},
   "outputs": [],
   "source": [
    "# kNN算法sklearn库实现\n",
    "def KnnClassifier(data_X, data_y, neighbors, flag=0):\n",
    "    X_train, X_test, y_train, y_test = train_test_split(data_X, data_y, test_size=0.2)\n",
    "    knn = KNeighborsClassifier(n_neighbors=neighbors)\n",
    "    knn.fit(X_train, y_train.ravel())\n",
    "    print('k={0}时，scikit-learn训练手写体识别的准确率为：{1}'.format(neighbors,knn.score(X_test, y_test)))\n",
    "    # 交叉验证\n",
    "    if flag == 1:\n",
    "        scores = cross_val_score(knn,data_X,data_y.ravel(),cv=10,scoring='accuracy')\n",
    "        return scores.mean()"
   ]
  },
  {
   "attachments": {},
   "cell_type": "markdown",
   "metadata": {},
   "source": [
    "实验结果："
   ]
  },
  {
   "cell_type": "code",
   "execution_count": 7,
   "metadata": {},
   "outputs": [
    {
     "name": "stdout",
     "output_type": "stream",
     "text": [
      "k=1时，scikit-learn训练手写体识别的准确率为：0.8840125391849529\n",
      "k=3时，scikit-learn训练手写体识别的准确率为：0.8683385579937304\n",
      "k=5时，scikit-learn训练手写体识别的准确率为：0.9278996865203761\n"
     ]
    }
   ],
   "source": [
    "KnnClassifier(X, y, 1)\n",
    "KnnClassifier(X, y, 3)\n",
    "KnnClassifier(X, y, 5)"
   ]
  },
  {
   "attachments": {},
   "cell_type": "markdown",
   "metadata": {},
   "source": [
    "### Weka k = 1"
   ]
  },
  {
   "attachments": {},
   "cell_type": "markdown",
   "metadata": {},
   "source": [
    "Attributes:   257\n",
    "              [list of attributes omitted]\n",
    "Test mode:    10-fold cross-validation\n",
    "\n",
    "=== Classifier model (full training set) ===\n",
    "\n",
    "IB1 instance-based classifier\n",
    "using 1 nearest neighbour(s) for classification\n",
    "\n",
    "\n",
    "Time taken to build model: 0 seconds\n",
    "\n",
    "=== Stratified cross-validation ===\n",
    "=== Summary ===\n",
    "\n",
    "Correctly Classified Instances        1457               91.4626 %  \n",
    "Incorrectly Classified Instances       136                8.5374 %  \n",
    "Kappa statistic                          0.9051  \n",
    "Mean absolute error                      0.018   \n",
    "Root mean squared error                  0.1277  \n",
    "Relative absolute error                  9.9937 %  \n",
    "Root relative squared error             42.5761 %  \n",
    "Total Number of Instances             1593      \n",
    "\n",
    "=== Detailed Accuracy By Class ===\n",
    "\n",
    "                 TP Rate  FP Rate  Precision  Recall   F-Measure  MCC      ROC Area  PRC Area  Class\n",
    "                 0.981    0.004    0.963      0.981    0.972      0.969    0.987     0.948     0.0\n",
    "                 0.975    0.020    0.845      0.975    0.905      0.897    0.979     0.846     1.0\n",
    "                 0.950    0.014    0.883      0.950    0.915      0.906    0.971     0.880     2.0\n",
    "                 0.925    0.017    0.855      0.925    0.888      0.876    0.964     0.809     3.0\n",
    "                 0.919    0.005    0.955      0.919    0.937      0.930    0.962     0.910     4.0\n",
    "                 0.931    0.015    0.876      0.931    0.902      0.892    0.952     0.827     5.0\n",
    "                 0.944    0.009    0.921      0.944    0.933      0.925    0.968     0.878     6.0\n",
    "                 0.924    0.003    0.973      0.924    0.948      0.943    0.970     0.920     7.0\n",
    "                 0.819    0.004    0.955      0.819    0.882      0.873    0.913     0.829     8.0\n",
    "                 0.772    0.003    0.961      0.772    0.856      0.848    0.884     0.770     9.0\n",
    "Weighted Avg.    0.915    0.010    0.918      0.915    0.914      0.906    0.955     0.862     \n",
    "\n",
    "=== Confusion Matrix ===\n",
    "\n",
    "   a   b   c   d   e   f   g   h   i   j   <-- classified as  \n",
    "158   0   0   0   1   0   2   0   0   0 |   a = 0.0  \n",
    "   0 158   0   2   0   1   0   0   0   1 |   b = 1.0  \n",
    "   0   2 151   2   1   0   0   1   1   1 |   c = 2.0  \n",
    "   0   1   2 147   0   5   0   1   2   1 |   d = 3.0  \n",
    "   0  10   1   0 148   0   1   1   0   0 |   e = 4.0  \n",
    "   0   1   0   3   1 148   6   0   0   0 |   f = 5.0  \n",
    "   4   0   0   0   2   3 152   0   0   0 |   g = 6.0  \n",
    "   0   9   1   0   1   0   0 146   0   1 |   h = 7.0  \n",
    "   1   2  16   3   0   2   3   0 127   1 |   i = 8.0  \n",
    "   1   4   0  15   1  10   1   1   3 122 |   j = 9.0  "
   ]
  },
  {
   "attachments": {},
   "cell_type": "markdown",
   "metadata": {},
   "source": [
    "### Weka k = 3"
   ]
  },
  {
   "attachments": {},
   "cell_type": "markdown",
   "metadata": {},
   "source": [
    "=== Run information ===\n",
    "\n",
    "Scheme:       weka.classifiers.lazy.IBk -K 3 -W 0 -A \"weka.core.neighboursearch.LinearNNSearch -A \\\"weka.core.EuclideanDistance -R first-last\\\"\"\n",
    "Relation:     semeion.csv\n",
    "Instances:    1593\n",
    "Attributes:   257\n",
    "              [list of attributes omitted]\n",
    "Test mode:    10-fold cross-validation\n",
    "\n",
    "=== Classifier model (full training set) ===\n",
    "\n",
    "IB1 instance-based classifier\n",
    "using 3 nearest neighbour(s) for classification\n",
    "\n",
    "\n",
    "Time taken to build model: 0 seconds\n",
    "\n",
    "=== Stratified cross-validation ===\n",
    "=== Summary ===\n",
    "\n",
    "Correctly Classified Instances        1439               90.3327 %  \n",
    "Incorrectly Classified Instances       154                9.6673 %  \n",
    "Kappa statistic                          0.8926  \n",
    "Mean absolute error                      0.0233  \n",
    "Root mean squared error                  0.1149  \n",
    "Relative absolute error                 12.9565 %  \n",
    "Root relative squared error             38.2998 %  \n",
    "Total Number of Instances             1593       \n",
    "\n",
    "=== Detailed Accuracy By Class ===\n",
    "\n",
    "                 TP Rate  FP Rate  Precision  Recall   F-Measure  MCC      ROC Area  PRC Area  Class\n",
    "                 0.988    0.004    0.964      0.988    0.975      0.973    0.995     0.972     0.0\n",
    "                 0.988    0.032    0.777      0.988    0.870      0.861    0.992     0.919     1.0\n",
    "                 0.937    0.015    0.871      0.937    0.903      0.893    0.987     0.957     2.0\n",
    "                 0.937    0.018    0.851      0.937    0.892      0.881    0.991     0.959     3.0\n",
    "                 0.919    0.006    0.949      0.919    0.934      0.927    0.980     0.960     4.0\n",
    "                 0.950    0.017    0.863      0.950    0.904      0.894    0.993     0.954     5.0\n",
    "                 0.963    0.006    0.951      0.963    0.957      0.952    0.985     0.952     6.0\n",
    "                 0.867    0.003    0.972      0.867    0.916      0.910    0.988     0.979     7.0\n",
    "                 0.755    0.006    0.929      0.755    0.833      0.822    0.947     0.894     8.0\n",
    "                 0.722    0.001    0.991      0.722    0.835      0.833    0.933     0.887     9.0\n",
    "Weighted Avg.    0.903    0.011    0.911      0.903    0.902      0.895    0.979     0.943     \n",
    "\n",
    "=== Confusion Matrix ===\n",
    "\n",
    "   a   b   c   d   e   f   g   h   i   j   <-- classified as\n",
    " 159   0   0   0   1   0   0   0   1   0 |   a = 0.0  \n",
    "   0 160   0   2   0   0   0   0   0   0 |   b = 1.0  \n",
    "   0   6 149   1   1   0   0   1   1   0 |   c = 2.0  \n",
    "   0   2   2 149   0   3   0   1   1   1 |   d = 3.0  \n",
    "   0  10   2   0 148   0   0   1   0   0 |   e = 4.0  \n",
    "   0   1   0   2   1 151   4   0   0   0 |   f = 5.0  \n",
    "   2   0   0   0   2   2 155   0   0   0 |   g = 6.0  \n",
    "   0  18   1   0   2   0   0 137   0   0 |   h = 7.0  \n",
    "   1   4  16   8   0   6   3   0 117   0 |   i = 8.0  \n",
    "   3   5   1  13   1  13   1   1   6 114 |   j = 9.0  "
   ]
  },
  {
   "attachments": {},
   "cell_type": "markdown",
   "metadata": {},
   "source": [
    "### Weka k = 5"
   ]
  },
  {
   "attachments": {},
   "cell_type": "markdown",
   "metadata": {},
   "source": [
    "=== Run information ===\n",
    "\n",
    "Scheme:       weka.classifiers.lazy.IBk -K 5 -W 0 -A \"weka.core.neighboursearch.LinearNNSearch -A \\\"weka.core.EuclideanDistance -R first-last\\\"\"\n",
    "Relation:     semeion.csv\n",
    "Instances:    1593\n",
    "Attributes:   257\n",
    "              [list of attributes omitted]\n",
    "Test mode:    10-fold cross-validation\n",
    "\n",
    "=== Classifier model (full training set) ===\n",
    "\n",
    "IB1 instance-based classifier\n",
    "using 5 nearest neighbour(s) for classification\n",
    "\n",
    "\n",
    "Time taken to build model: 0 seconds\n",
    "\n",
    "=== Stratified cross-validation ===\n",
    "=== Summary ===\n",
    "\n",
    "Correctly Classified Instances        1438               90.2699 %  \n",
    "Incorrectly Classified Instances       155                9.7301 %  \n",
    "Kappa statistic                          0.8919  \n",
    "Mean absolute error                      0.0289  \n",
    "Root mean squared error                  0.1176   \n",
    "Relative absolute error                 16.0381 %  \n",
    "Root relative squared error             39.1985 %  \n",
    "Total Number of Instances             1593      \n",
    "\n",
    "=== Detailed Accuracy By Class ===\n",
    "\n",
    "                 TP Rate  FP Rate  Precision  Recall   F-Measure  MCC      ROC Area  PRC Area  Class\n",
    "                 0.988    0.006    0.946      0.988    0.967      0.963    0.997     0.988     0.0\n",
    "                 0.975    0.034    0.767      0.975    0.859      0.848    0.993     0.945     1.0\n",
    "                 0.937    0.011    0.903      0.937    0.920      0.911    0.989     0.967     2.0\n",
    "                 0.937    0.022    0.828      0.937    0.879      0.867    0.996     0.953     3.0\n",
    "                 0.919    0.003    0.974      0.919    0.946      0.940    0.987     0.972     4.0\n",
    "                 0.962    0.016    0.869      0.962    0.913      0.905    0.998     0.980     5.0\n",
    "                 0.957    0.005    0.957      0.957    0.957      0.952    0.983     0.968     6.0\n",
    "                 0.873    0.003    0.972      0.873    0.920      0.913    0.999     0.986     7.0\n",
    "                 0.755    0.006    0.929      0.755    0.833      0.822    0.970     0.916     8.0\n",
    "                 0.715    0.003    0.966      0.715    0.822      0.816    0.966     0.908     9.0\n",
    "Weighted Avg.    0.903    0.011    0.911      0.903    0.902      0.894    0.988     0.959     \n",
    "\n",
    "=== Confusion Matrix ===\n",
    "\n",
    "   a   b   c   d   e   f   g   h   i   j   <-- classified as\n",
    " 159   0   0   0   1   0   0   0   1   0 |   a = 0.0  \n",
    "   0 158   1   2   1   0   0   0   0   0 |   b = 1.0  \n",
    "   0   6 149   1   1   0   0   0   2   0 |   c = 2.0  \n",
    "   0   3   1 149   0   4   0   0   1   1 |   d = 3.0  \n",
    "   0   9   1   0 148   0   0   3   0   0 |   e = 4.0  \n",
    "   0   1   0   0   0 153   4   0   0   1 |   f = 5.0  \n",
    "   5   0   0   0   0   2 154   0   0   0 |   g = 6.0  \n",
    "   0  19   0   0   0   0   1 138   0   0 |   h = 7.0  \n",
    "   1   4  13  11   0   6   1   0 117   2 |   i = 8.0  \n",
    "   3   6   0  17   1  11   1   1   5 113 |   j = 9.0  "
   ]
  },
  {
   "attachments": {},
   "cell_type": "markdown",
   "metadata": {},
   "source": [
    "### 对比结果\n",
    "- 留一法的准确率大约为91.7％\n",
    "- 普通分割数据集方法的KNN准确率大约为93.1％\n",
    "- Scikit-learn的KNN准确率在86.8％~92.7%之间\n",
    "- Weka的KNN准确率大约为90.3%"
   ]
  },
  {
   "attachments": {},
   "cell_type": "markdown",
   "metadata": {},
   "source": [
    "### 高级要求\n",
    "将实验过程结果等图示展出"
   ]
  },
  {
   "cell_type": "code",
   "execution_count": 7,
   "metadata": {},
   "outputs": [
    {
     "name": "stdout",
     "output_type": "stream",
     "text": [
      "k=1时，测试个数为1593  正确个数为：1462  准确率为：0.9177652228499686\n",
      "k=2时，测试个数为1593  正确个数为：1462  准确率为：0.9177652228499686\n",
      "k=3时，测试个数为1593  正确个数为：1461  准确率为：0.9171374764595104\n",
      "k=4时，测试个数为1593  正确个数为：1467  准确率为：0.9209039548022598\n",
      "k=5时，测试个数为1593  正确个数为：1460  准确率为：0.9165097300690521\n",
      "k=6时，测试个数为1593  正确个数为：1460  准确率为：0.9165097300690521\n",
      "k=7时，测试个数为1593  正确个数为：1466  准确率为：0.9202762084118016\n",
      "k=8时，测试个数为1593  正确个数为：1468  准确率为：0.9215317011927181\n",
      "k=9时，测试个数为1593  正确个数为：1473  准确率为：0.9246704331450094\n",
      "k=10时，测试个数为1593  正确个数为：1468  准确率为：0.9215317011927181\n",
      "k=11时，测试个数为1593  正确个数为：1463  准确率为：0.9183929692404269\n",
      "k=12时，测试个数为1593  正确个数为：1464  准确率为：0.9190207156308852\n",
      "k=13时，测试个数为1593  正确个数为：1459  准确率为：0.9158819836785939\n",
      "k=14时，测试个数为1593  正确个数为：1453  准确率为：0.9121155053358443\n",
      "k=15时，测试个数为1593  正确个数为：1441  准确率为：0.9045825486503453\n",
      "k=16时，测试个数为1593  正确个数为：1443  准确率为：0.9058380414312618\n",
      "k=17时，测试个数为1593  正确个数为：1440  准确率为：0.903954802259887\n",
      "k=18时，测试个数为1593  正确个数为：1438  准确率为：0.9026993094789705\n",
      "k=19时，测试个数为1593  正确个数为：1434  准确率为：0.9001883239171374\n",
      "k=20时，测试个数为1593  正确个数为：1438  准确率为：0.9026993094789705\n",
      "k=21时，测试个数为1593  正确个数为：1438  准确率为：0.9026993094789705\n",
      "k=22时，测试个数为1593  正确个数为：1443  准确率为：0.9058380414312618\n",
      "k=23时，测试个数为1593  正确个数为：1437  准确率为：0.9020715630885122\n",
      "k=24时，测试个数为1593  正确个数为：1433  准确率为：0.8995605775266792\n",
      "k=25时，测试个数为1593  正确个数为：1429  准确率为：0.8970495919648462\n",
      "k=26时，测试个数为1593  正确个数为：1431  准确率为：0.8983050847457628\n",
      "k=27时，测试个数为1593  正确个数为：1432  准确率为：0.898932831136221\n",
      "k=28时，测试个数为1593  正确个数为：1424  准确率为：0.8939108600125549\n",
      "k=29时，测试个数为1593  正确个数为：1426  准确率为：0.8951663527934715\n"
     ]
    }
   ],
   "source": [
    "scores1 = []\n",
    "scores2 = []\n",
    "\n",
    "for k in range(1,30):\n",
    "    score1 = leave_one_out_cross_validation(X, y, k)\n",
    "    scores1.append(score1)"
   ]
  },
  {
   "cell_type": "code",
   "execution_count": 12,
   "metadata": {},
   "outputs": [
    {
     "name": "stdout",
     "output_type": "stream",
     "text": [
      "k=1时，scikit-learn训练手写体识别的准确率为：0.9059561128526645\n",
      "k=2时，scikit-learn训练手写体识别的准确率为：0.890282131661442\n",
      "k=3时，scikit-learn训练手写体识别的准确率为：0.8808777429467085\n",
      "k=4时，scikit-learn训练手写体识别的准确率为：0.9153605015673981\n",
      "k=5时，scikit-learn训练手写体识别的准确率为：0.8840125391849529\n",
      "k=6时，scikit-learn训练手写体识别的准确率为：0.8996865203761756\n",
      "k=7时，scikit-learn训练手写体识别的准确率为：0.8934169278996865\n",
      "k=8时，scikit-learn训练手写体识别的准确率为：0.8746081504702194\n",
      "k=9时，scikit-learn训练手写体识别的准确率为：0.896551724137931\n",
      "k=10时，scikit-learn训练手写体识别的准确率为：0.8934169278996865\n",
      "k=11时，scikit-learn训练手写体识别的准确率为：0.9090909090909091\n",
      "k=12时，scikit-learn训练手写体识别的准确率为：0.8871473354231975\n",
      "k=13时，scikit-learn训练手写体识别的准确率为：0.8934169278996865\n",
      "k=14时，scikit-learn训练手写体识别的准确率为：0.8808777429467085\n",
      "k=15时，scikit-learn训练手写体识别的准确率为：0.8996865203761756\n",
      "k=16时，scikit-learn训练手写体识别的准确率为：0.8652037617554859\n",
      "k=17时，scikit-learn训练手写体识别的准确率为：0.8683385579937304\n",
      "k=18时，scikit-learn训练手写体识别的准确率为：0.8996865203761756\n",
      "k=19时，scikit-learn训练手写体识别的准确率为：0.8746081504702194\n",
      "k=20时，scikit-learn训练手写体识别的准确率为：0.8871473354231975\n",
      "k=21时，scikit-learn训练手写体识别的准确率为：0.8432601880877743\n",
      "k=22时，scikit-learn训练手写体识别的准确率为：0.8683385579937304\n",
      "k=23时，scikit-learn训练手写体识别的准确率为：0.8934169278996865\n",
      "k=24时，scikit-learn训练手写体识别的准确率为：0.8714733542319749\n",
      "k=25时，scikit-learn训练手写体识别的准确率为：0.8840125391849529\n",
      "k=26时，scikit-learn训练手写体识别的准确率为：0.8934169278996865\n",
      "k=27时，scikit-learn训练手写体识别的准确率为：0.8840125391849529\n",
      "k=28时，scikit-learn训练手写体识别的准确率为：0.8714733542319749\n",
      "k=29时，scikit-learn训练手写体识别的准确率为：0.8620689655172413\n"
     ]
    }
   ],
   "source": [
    "for k in range(1,30):\n",
    "    score2 = KnnClassifier(X, y, k, 1)\n",
    "    scores2.append(score2)"
   ]
  },
  {
   "attachments": {},
   "cell_type": "markdown",
   "metadata": {},
   "source": [
    "对图表的一些文字说明..."
   ]
  },
  {
   "cell_type": "code",
   "execution_count": 13,
   "metadata": {},
   "outputs": [
    {
     "data": {
      "image/png": "[encoded data removed]",
      "text/plain": [
       "<Figure size 432x288 with 1 Axes>"
      ]
     },
     "metadata": {
      "needs_background": "light"
     },
     "output_type": "display_data"
    }
   ],
   "source": [
    "plt.xlabel('k value:',fontsize=18)\n",
    "plt.ylabel('accuracy',fontsize=18)\n",
    "x_major_locator = plt.MultipleLocator(1)\n",
    "ax = plt.gca()\n",
    "ax.xaxis.set_major_locator(x_major_locator)\n",
    "plt.xlim(0, 30)\n",
    "plt.ylim(0.75, 1)\n",
    "# 普通kNN分类精度\n",
    "plt.plot(range(1,30),scores1,'r')\n",
    "plt.plot(range(1,30),scores2,'b')\n",
    "plt.show()"
   ]
  },
  {
   "attachments": {},
   "cell_type": "markdown",
   "metadata": {},
   "source": []
  },
  {
   "attachments": {},
   "cell_type": "markdown",
   "metadata": {},
   "source": [
    "下图分别为weka KNN k=3和weka KNN k=5的可视化margin curve"
   ]
  },
  {
   "attachments": {
    "image.png": {
     "image/png": "[encoded data removed]"
    }
   },
   "cell_type": "markdown",
   "metadata": {},
   "source": [
    "![image.png](attachment:image.png)"
   ]
  },
  {
   "attachments": {
    "image.png": {
     "image/png": "[encoded data removed]"
    }
   },
   "cell_type": "markdown",
   "metadata": {},
   "source": [
    "![image.png](attachment:image.png)"
   ]
  },
  {
   "cell_type": "code",
   "execution_count": null,
   "metadata": {},
   "outputs": [],
   "source": []
  }
 ],
 "metadata": {
  "kernelspec": {
   "display_name": "Python 3",
   "language": "python",
   "name": "python3"
  },
  "language_info": {
   "codemirror_mode": {
    "name": "ipython",
    "version": 3
   },
   "file_extension": ".py",
   "mimetype": "text/x-python",
   "name": "python",
   "nbconvert_exporter": "python",
   "pygments_lexer": "ipython3",
   "version": "3.9.1"
  }
 },
 "nbformat": 4,
 "nbformat_minor": 2
}
